{
  "cells": [
    {
      "cell_type": "markdown",
      "metadata": {
        "id": "view-in-github",
        "colab_type": "text"
      },
      "source": [
        "<a href=\"https://colab.research.google.com/github/sans-afk/economy-bot/blob/main/notebooks/part1.ipynb\" target=\"_parent\"><img src=\"https://colab.research.google.com/assets/colab-badge.svg\" alt=\"Open In Colab\"/></a>"
      ]
    },
    {
      "cell_type": "markdown",
      "metadata": {
        "editable": true,
        "id": "iRRDs7xlzYO7",
        "tags": []
      },
      "source": [
        "# Intro to Python Workshop\n",
        "\n",
        "This workshop will introduce the basics of programming with Python and prepare you for some of the upcoming projects this week.\n",
        "\n",
        "Each section will have exercises to complete.\n",
        "\n",
        "Some of you may be familiar with programming already, and may find some or all of these exercises easy. We have more advanced notebooks for those who are interested.\n",
        "\n",
        "If you are not familiar with coding, then do not fear! Maths and physics is harder than coding, which you are all capable of!"
      ]
    },
    {
      "cell_type": "markdown",
      "metadata": {
        "editable": true,
        "tags": [],
        "id": "eYdQ1-j5b7jM"
      },
      "source": [
        "# Why are we learning to code?\n",
        "\n",
        "Coding is extensively used in modern-day science. Use cases include:\n",
        "\n",
        "- Modelling complex systems (gravitational simulations, fluid dynamics, molecular dynamics)\n",
        "- Solving hard equations\n",
        "- Data analysis and data visualisation"
      ]
    },
    {
      "cell_type": "markdown",
      "metadata": {
        "editable": true,
        "tags": [],
        "id": "p2nc14Z5b7jM"
      },
      "source": [
        "# Why Python?\n",
        "\n",
        "Python is one of the most popular programming languages. It's key advantages include:\n",
        "\n",
        "- Easier to learn\n",
        "- Large selection of useful libraries containing software written by other users that can be integrated into your own work\n",
        "    - This is particularly the case for modern machine learning codes\n",
        "- Good for data visualisation"
      ]
    },
    {
      "cell_type": "markdown",
      "metadata": {
        "editable": true,
        "tags": [],
        "id": "AkeBq72kb7jM"
      },
      "source": [
        "# Accessing the Notebooks\n",
        "\n",
        "<img src=\"https://github.com/henry-ald/python-tutorial-WEW2025/blob/main/notebooks/github.png?raw=1\" alt=\"GitHub repository\" width=\"800\"/>"
      ]
    },
    {
      "cell_type": "markdown",
      "metadata": {
        "editable": true,
        "tags": [],
        "id": "Q8jcwQOjb7jN"
      },
      "source": [
        "<img src=\"https://github.com/henry-ald/python-tutorial-WEW2025/blob/main/notebooks/colab.png?raw=1\" alt=\"Google Colab\" width=\"800\"/>"
      ]
    },
    {
      "cell_type": "markdown",
      "metadata": {
        "editable": true,
        "tags": [],
        "id": "PqkbD2Clb7jN"
      },
      "source": [
        "# Notebooks\n",
        "\n",
        "You are currently viewing a Python notebook, which is a file format that allows users to code and write text in one file.\n",
        "\n",
        "You are viewing this notebook in Google Colab, a website that connects to the cloud and allows you to run the code remotely on Google's high-performance computers.\n",
        "\n",
        "Code and text are written in cells. Press \"$\\triangleright$ Run all\" at the top of Google Colab to run all the code. To run the code in an individual cell, press the $\\triangleright$ on the left side of a cell.\n",
        "\n",
        "Note: The code in a notebook is ordered from top to bottom. If we run an individual cell, we might need to have previously ran some earlier cells in the notebook, if the cell we are trying to run relies on previously written code."
      ]
    },
    {
      "cell_type": "markdown",
      "metadata": {
        "editable": true,
        "tags": [],
        "id": "ptdH-u24b7jN"
      },
      "source": [
        "# Variables and data types\n",
        "\n",
        "A variable is a stored, labelled object. For example, we might want to define the mass of an object for use later on. We use `=` to assign an object to a variable:"
      ]
    },
    {
      "cell_type": "code",
      "execution_count": null,
      "metadata": {
        "editable": true,
        "id": "rYFUyrVwzVTF",
        "tags": []
      },
      "outputs": [],
      "source": [
        "mass = 10"
      ]
    },
    {
      "cell_type": "markdown",
      "metadata": {
        "editable": true,
        "tags": [],
        "id": "JLvHo5Psb7jN"
      },
      "source": [
        "Let's print `mass` to see our stored value for `mass`:"
      ]
    },
    {
      "cell_type": "code",
      "execution_count": null,
      "metadata": {
        "editable": true,
        "tags": [],
        "id": "fyHB9cqcb7jO",
        "outputId": "11f5d152-5b0c-4616-ffb1-2c9a1a571664"
      },
      "outputs": [
        {
          "name": "stdout",
          "output_type": "stream",
          "text": [
            "10\n"
          ]
        }
      ],
      "source": [
        "print(mass)"
      ]
    },
    {
      "cell_type": "markdown",
      "metadata": {
        "editable": true,
        "tags": [],
        "id": "ZTZGl6b-b7jO"
      },
      "source": [
        "Data can be stored as different types. For example,\n",
        "\n",
        "- `int`: an integer number\n",
        "- `float`: a non-integer number\n",
        "- `bool`: a boolean object (True or False)\n",
        "- `str`: a string object (sequence of characters e.g. words)"
      ]
    },
    {
      "cell_type": "markdown",
      "metadata": {
        "editable": true,
        "tags": [],
        "id": "gpuYwZrfb7jO"
      },
      "source": [
        "Let's check what type the `mass` variable is:"
      ]
    },
    {
      "cell_type": "code",
      "execution_count": null,
      "metadata": {
        "editable": true,
        "tags": [],
        "id": "m0_BZmqdb7jO",
        "outputId": "cc820e17-5630-4a40-8117-274dcb24ff56"
      },
      "outputs": [
        {
          "data": {
            "text/plain": [
              "int"
            ]
          },
          "execution_count": 3,
          "metadata": {},
          "output_type": "execute_result"
        }
      ],
      "source": [
        "type(mass)"
      ]
    },
    {
      "cell_type": "markdown",
      "metadata": {
        "editable": true,
        "tags": [],
        "id": "tnp-gY7ob7jP"
      },
      "source": [
        "We might want to update our mass, for instance if we are changing the parameters of a model or if our original measurement was incorrect:"
      ]
    },
    {
      "cell_type": "code",
      "execution_count": null,
      "metadata": {
        "editable": true,
        "tags": [],
        "id": "x6v3nDm3b7jP",
        "outputId": "ac4242bd-2084-4f07-e31a-4a6c4f519366"
      },
      "outputs": [
        {
          "name": "stdout",
          "output_type": "stream",
          "text": [
            "10.5\n"
          ]
        },
        {
          "data": {
            "text/plain": [
              "float"
            ]
          },
          "execution_count": 4,
          "metadata": {},
          "output_type": "execute_result"
        }
      ],
      "source": [
        "mass = 10.5\n",
        "\n",
        "print(mass)\n",
        "type(mass)"
      ]
    },
    {
      "cell_type": "markdown",
      "metadata": {
        "editable": true,
        "tags": [],
        "id": "fJQtx2xdb7jP"
      },
      "source": [
        "We have reassigned our `mass` variable. It now a `float` with the value `10.5`."
      ]
    },
    {
      "cell_type": "markdown",
      "metadata": {
        "editable": true,
        "tags": [],
        "id": "Ca6qX7Oob7jP"
      },
      "source": [
        "# Arithmetic Operations\n",
        "We can perform arithmetic operations on our variables using the following:\n",
        "- `+` to add\n",
        "- `-` to subtract\n",
        "- `*` to multiply\n",
        "- `/` to divide\n",
        "- `**` to raise to the power of\n",
        "\n",
        "BIDMAS (or BODMAS) applies in coding! Brackets need to be used where necessary."
      ]
    },
    {
      "cell_type": "markdown",
      "metadata": {
        "editable": true,
        "tags": [],
        "id": "IDcH4nuxb7jP"
      },
      "source": [
        "Let's do some arithmetic operations:"
      ]
    },
    {
      "cell_type": "code",
      "execution_count": null,
      "metadata": {
        "editable": true,
        "tags": [],
        "id": "vpxS4NwMb7jP",
        "outputId": "8e74c7aa-0b5a-4ca4-8b64-2818ba0236c5"
      },
      "outputs": [
        {
          "name": "stdout",
          "output_type": "stream",
          "text": [
            "21.0\n"
          ]
        }
      ],
      "source": [
        "acceleration = 2\n",
        "force = mass * acceleration\n",
        "\n",
        "print(force)"
      ]
    },
    {
      "cell_type": "markdown",
      "metadata": {
        "editable": true,
        "tags": [],
        "id": "OvtcWiaqb7jQ"
      },
      "source": [
        "We don't have to define variables if we do not wish to store their values for future use:"
      ]
    },
    {
      "cell_type": "code",
      "execution_count": null,
      "metadata": {
        "editable": true,
        "tags": [],
        "id": "Ye_L3Zphb7jQ",
        "outputId": "607b7297-0671-42e0-a414-4a63652cd5c7"
      },
      "outputs": [
        {
          "data": {
            "text/plain": [
              "7.905247813411079"
            ]
          },
          "execution_count": 6,
          "metadata": {},
          "output_type": "execute_result"
        }
      ],
      "source": [
        "1.5 + (13 / 7) ** 3"
      ]
    },
    {
      "cell_type": "markdown",
      "metadata": {
        "editable": true,
        "tags": [],
        "id": "mBT_zbevb7jQ"
      },
      "source": [
        "Arithmetic operations can be applied to non-integer or float types, but only where it makes sense to do so:"
      ]
    },
    {
      "cell_type": "code",
      "execution_count": null,
      "metadata": {
        "editable": true,
        "tags": [],
        "id": "EoNqqU7Gb7jQ",
        "outputId": "808f2c76-1941-4a37-eea4-4c785a3e4102"
      },
      "outputs": [
        {
          "name": "stdout",
          "output_type": "stream",
          "text": [
            "Isaac Newton\n"
          ]
        }
      ],
      "source": [
        "first_name = \"Isaac\"\n",
        "second_name = \"Newton\"\n",
        "\n",
        "full_name = first_name + \" \" + second_name\n",
        "print(full_name)"
      ]
    },
    {
      "cell_type": "markdown",
      "metadata": {
        "editable": true,
        "tags": [],
        "id": "7qJO_kI-b7jQ"
      },
      "source": [
        "If we were to code `first_name * second_name`, we would get an error, because multiplying two strings does not make sense!\n",
        "\n",
        "Connecting sequences of data (e.g. characters, in this case) is termed \"concatenating\"."
      ]
    },
    {
      "cell_type": "markdown",
      "metadata": {
        "editable": true,
        "tags": [],
        "id": "DXga2XV0b7jQ"
      },
      "source": [
        "# Comparison and Logic Operations\n",
        "Other important Python operators include comparison operators:\n",
        "- `==`: equal\n",
        "- `!=`: not equal\n",
        "- `>`: greater than\n",
        "- `<`: less than\n",
        "- `>=`: greater than or equal to\n",
        "- `<=` less than or equal to\n",
        "\n",
        "and logic operators:\n",
        "- `and`: returns True if both statements are true\n",
        "- `or`: returns True if at least one of both statements are true\n",
        "- `not`: reverses the result, returning False if the result is true"
      ]
    },
    {
      "cell_type": "markdown",
      "metadata": {
        "editable": true,
        "tags": [],
        "id": "6NVTJPf3b7jQ"
      },
      "source": [
        "Using these operators will produce a `bool`:"
      ]
    },
    {
      "cell_type": "code",
      "execution_count": null,
      "metadata": {
        "editable": true,
        "tags": [],
        "id": "RMw8WsQMb7jQ",
        "outputId": "7309e340-db0d-49e3-ff9c-be6c13ba390f"
      },
      "outputs": [
        {
          "data": {
            "text/plain": [
              "False"
            ]
          },
          "execution_count": 8,
          "metadata": {},
          "output_type": "execute_result"
        }
      ],
      "source": [
        "3 > 4"
      ]
    },
    {
      "cell_type": "code",
      "execution_count": null,
      "metadata": {
        "editable": true,
        "tags": [],
        "id": "saFbF-vfb7jR",
        "outputId": "7205372a-b99d-43f9-973d-cb577ccc1632"
      },
      "outputs": [
        {
          "data": {
            "text/plain": [
              "True"
            ]
          },
          "execution_count": 9,
          "metadata": {},
          "output_type": "execute_result"
        }
      ],
      "source": [
        "3 < 4"
      ]
    },
    {
      "cell_type": "code",
      "execution_count": null,
      "metadata": {
        "editable": true,
        "tags": [],
        "id": "75jt6yDQb7jR",
        "outputId": "52d96b91-054c-42b2-a6df-433a5988a807"
      },
      "outputs": [
        {
          "data": {
            "text/plain": [
              "True"
            ]
          },
          "execution_count": 10,
          "metadata": {},
          "output_type": "execute_result"
        }
      ],
      "source": [
        "(3 < 4) and (5 == 5.0)"
      ]
    },
    {
      "cell_type": "code",
      "execution_count": null,
      "metadata": {
        "editable": true,
        "tags": [],
        "id": "3Zd1QeK2b7jR",
        "outputId": "7fc75709-8e1a-4723-ce08-00fad6c14c14"
      },
      "outputs": [
        {
          "data": {
            "text/plain": [
              "True"
            ]
          },
          "execution_count": 11,
          "metadata": {},
          "output_type": "execute_result"
        }
      ],
      "source": [
        "(3 > 4) or (5 == 5.0)"
      ]
    },
    {
      "cell_type": "code",
      "execution_count": null,
      "metadata": {
        "editable": true,
        "tags": [],
        "id": "PDR1S9hZb7jR",
        "outputId": "ca9c5a1d-8b8d-416e-f6d5-09cff77dd6b6"
      },
      "outputs": [
        {
          "data": {
            "text/plain": [
              "False"
            ]
          },
          "execution_count": 12,
          "metadata": {},
          "output_type": "execute_result"
        }
      ],
      "source": [
        "(3 < 4) and not (5 == 5.0)"
      ]
    },
    {
      "cell_type": "markdown",
      "metadata": {
        "editable": true,
        "tags": [],
        "id": "4nGA-JVcb7jR"
      },
      "source": [
        "# Conditionals and Control Flow\n",
        "Conditionals and control flow provide means of directing our code to perform certain tasks according to certain criteria."
      ]
    },
    {
      "cell_type": "markdown",
      "metadata": {
        "editable": true,
        "tags": [],
        "id": "GuLZG5X2b7jR"
      },
      "source": [
        "We begin with `if`, `elif` and `else` statements:"
      ]
    },
    {
      "cell_type": "code",
      "execution_count": null,
      "metadata": {
        "editable": true,
        "tags": [],
        "id": "IW8dBWO5b7jR",
        "outputId": "c5f18894-9e09-42a4-c28f-8cb38697ef89"
      },
      "outputs": [
        {
          "name": "stdout",
          "output_type": "stream",
          "text": [
            "x is equal to 5!\n"
          ]
        }
      ],
      "source": [
        "x = 5 # Try changing this value\n",
        "\n",
        "if x > 5:\n",
        "    print(\"x is greater than 5!\")\n",
        "elif x == 5:\n",
        "    print(\"x is equal to 5!\")\n",
        "else:\n",
        "    print(\"x is less than 5!\")"
      ]
    },
    {
      "cell_type": "markdown",
      "metadata": {
        "editable": true,
        "tags": [],
        "id": "H20PNZgjb7jR"
      },
      "source": [
        "Note the indentation. The following would produce an error:\n",
        "```python\n",
        "if x > 5:\n",
        "print(\"x is greater than 5!\")\n",
        "elif x == 5:\n",
        "print(\"x is equal to 5!\")\n",
        "else:\n",
        "print(\"x is less than 5!\")\n",
        "```"
      ]
    },
    {
      "cell_type": "markdown",
      "metadata": {
        "editable": true,
        "tags": [],
        "id": "z4lxqMvQb7jR"
      },
      "source": [
        "`for`-loops iterate over a sequence:"
      ]
    },
    {
      "cell_type": "code",
      "execution_count": null,
      "metadata": {
        "editable": true,
        "tags": [],
        "id": "dasyc3q0b7jR",
        "outputId": "4eb59fe0-cb5f-4840-e0b4-a969248e1f70"
      },
      "outputs": [
        {
          "name": "stdout",
          "output_type": "stream",
          "text": [
            "M\n",
            "S\n",
            "S\n",
            "L\n",
            ",\n",
            " \n",
            "S\n",
            "u\n",
            "r\n",
            "r\n",
            "e\n",
            "y\n"
          ]
        }
      ],
      "source": [
        "location = \"MSSL, Surrey\"\n",
        "\n",
        "for character in location:\n",
        "    print(character)"
      ]
    },
    {
      "cell_type": "markdown",
      "metadata": {
        "editable": true,
        "tags": [],
        "id": "HHWfjC3Hb7jR"
      },
      "source": [
        "In the above, `character` is a variable assigned by the `for`-loop with each iteration of the loop. We named it `character` for clarity, because in this case the `for`-loop iterates over characters in a string."
      ]
    },
    {
      "cell_type": "markdown",
      "metadata": {
        "editable": true,
        "tags": [],
        "id": "F_bO4pGTb7jR"
      },
      "source": [
        "It is also useful to use a `range` object, which can be iterated on to produce numbers in a specified range:"
      ]
    },
    {
      "cell_type": "code",
      "execution_count": null,
      "metadata": {
        "editable": true,
        "tags": [],
        "id": "Ki_61nYUb7jS",
        "outputId": "ee70967c-3c27-4688-a328-df9ad3801d6c"
      },
      "outputs": [
        {
          "name": "stdout",
          "output_type": "stream",
          "text": [
            "0\n",
            "1\n",
            "2\n",
            "3\n",
            "4\n"
          ]
        }
      ],
      "source": [
        "for i in range(5):\n",
        "    print(i)"
      ]
    },
    {
      "cell_type": "markdown",
      "metadata": {
        "editable": true,
        "tags": [],
        "id": "hFOveN90b7jS"
      },
      "source": [
        "By convention, counting in programming starts at 0 rather than 1. Typically, lower bounds are inclusive while upper bounds are exclusive:"
      ]
    },
    {
      "cell_type": "code",
      "execution_count": null,
      "metadata": {
        "editable": true,
        "tags": [],
        "id": "s5MnzeXyb7jS",
        "outputId": "441629d8-da97-4865-f347-5038216cec77"
      },
      "outputs": [
        {
          "name": "stdout",
          "output_type": "stream",
          "text": [
            "3\n",
            "4\n",
            "5\n"
          ]
        }
      ],
      "source": [
        "for i in range(3, 6):\n",
        "    print(i)"
      ]
    },
    {
      "cell_type": "markdown",
      "metadata": {
        "editable": true,
        "tags": [],
        "id": "pvbYv9Enb7jS"
      },
      "source": [
        "A `while`-loop continually iterates over the code inside of the loop until a condition is met:"
      ]
    },
    {
      "cell_type": "code",
      "execution_count": null,
      "metadata": {
        "editable": true,
        "tags": [],
        "id": "GVRUSaBDb7jS",
        "outputId": "1c8b6de0-9477-4f49-d10a-0136821e2f02"
      },
      "outputs": [
        {
          "name": "stdout",
          "output_type": "stream",
          "text": [
            "55\n"
          ]
        }
      ],
      "source": [
        "n = 0\n",
        "summation = 0\n",
        "\n",
        "while n < 10:\n",
        "    n = n + 1\n",
        "    summation = summation + n\n",
        "\n",
        "print(summation)\n"
      ]
    },
    {
      "cell_type": "markdown",
      "metadata": {
        "editable": true,
        "tags": [],
        "id": "wCgRRtYMb7jS"
      },
      "source": [
        "# Exercises\n"
      ]
    },
    {
      "cell_type": "markdown",
      "metadata": {
        "editable": true,
        "tags": [],
        "id": "m0STxt0ub7jS"
      },
      "source": [
        "### Arithmetical Operations\n",
        "\n",
        "Perform the following arithmetic operations in the kernels below:"
      ]
    },
    {
      "cell_type": "markdown",
      "metadata": {
        "editable": true,
        "tags": [],
        "id": "CWGOgGqOb7jS"
      },
      "source": [
        "1. Convert 250 degrees Fahrenheit to Celsius\n",
        "\n",
        "    _(Hint: Use the formula $C = \\frac{5}{9} (F - 32)$)_"
      ]
    },
    {
      "cell_type": "code",
      "execution_count": 1,
      "metadata": {
        "editable": true,
        "tags": [],
        "id": "pvct8QPvb7jS",
        "outputId": "329e96d9-af9f-4a5e-8888-36728949c6c2",
        "colab": {
          "base_uri": "https://localhost:8080/"
        }
      },
      "outputs": [
        {
          "output_type": "stream",
          "name": "stdout",
          "text": [
            "121.11111111111111\n"
          ]
        }
      ],
      "source": [
        "tempF = 250\n",
        "\n",
        "tempC = (5/9)*(tempF-32)\n",
        "\n",
        "print(tempC)"
      ]
    },
    {
      "cell_type": "markdown",
      "metadata": {
        "editable": true,
        "tags": [],
        "id": "Dk8l7Avdb7jS"
      },
      "source": [
        "2. Calculate area of a circle with radius $\\sqrt{64}$.\n",
        "\n",
        "    _(Hint: Formula for the area of a circle is $A = \\pi r^2$)_"
      ]
    },
    {
      "cell_type": "code",
      "execution_count": null,
      "metadata": {
        "editable": true,
        "tags": [],
        "id": "CqAFlzlFb7jS"
      },
      "outputs": [],
      "source": [
        "r = 8\n",
        "\n",
        "A = 3.14*(r*r)\n",
        "\n",
        "print(A)"
      ]
    },
    {
      "cell_type": "markdown",
      "metadata": {
        "editable": true,
        "tags": [],
        "id": "PcsMXxVBb7jS"
      },
      "source": [
        "3. Calculate the circumference of a circle with radius $2^8$.\n",
        "\n",
        "    _(Hint: Circumference of a circle is $C = 2 \\pi r$)_"
      ]
    },
    {
      "cell_type": "code",
      "execution_count": 5,
      "metadata": {
        "editable": true,
        "tags": [],
        "id": "_PN4ACg7b7jT",
        "outputId": "9a4d8b2a-fd8d-4328-cb68-05f720107a52",
        "colab": {
          "base_uri": "https://localhost:8080/"
        }
      },
      "outputs": [
        {
          "output_type": "stream",
          "name": "stdout",
          "text": [
            "1607.68\n"
          ]
        }
      ],
      "source": [
        "r = 2**8\n",
        "C = (2*3.14)*r\n",
        "\n",
        "print(C)"
      ]
    },
    {
      "cell_type": "markdown",
      "metadata": {
        "editable": true,
        "tags": [],
        "id": "nNrtBsXMb7jT"
      },
      "source": [
        "### Comparison and Logic Operations\n",
        "\n",
        "Using comparison and logic operators discussed during the workshop, answer the following questions:"
      ]
    },
    {
      "cell_type": "markdown",
      "metadata": {
        "editable": true,
        "tags": [],
        "id": "qCwDcnqdb7jT"
      },
      "source": [
        "1. Is $2^8$ larger, less than, or equal to $8^2$ ?"
      ]
    },
    {
      "cell_type": "code",
      "execution_count": 4,
      "metadata": {
        "editable": true,
        "tags": [],
        "id": "vYlmdikvb7jT",
        "outputId": "b8d2a3a2-57ce-42bc-a509-c58030a05a2c",
        "colab": {
          "base_uri": "https://localhost:8080/"
        }
      },
      "outputs": [
        {
          "output_type": "stream",
          "name": "stdout",
          "text": [
            "2^8 > 8^2\n"
          ]
        }
      ],
      "source": [
        "x = 2*2*2*2*2*2*2*2\n",
        "y = 8*8\n",
        "\n",
        "if x > y :\n",
        "  print (\"2^8 > 8^2\")\n",
        "elif x < y :\n",
        "  print (\"2^8<8^2\")\n",
        "else :\n",
        "  print (\"2^8 = 8^2\")"
      ]
    },
    {
      "cell_type": "markdown",
      "metadata": {
        "editable": true,
        "tags": [],
        "id": "gVSgyyNWb7jT"
      },
      "source": [
        "2. Is $\\sqrt{125}$ larger, less than, or equal to $3^5$ ?"
      ]
    },
    {
      "cell_type": "code",
      "execution_count": null,
      "metadata": {
        "editable": true,
        "tags": [],
        "id": "zXItd-Hvb7jT"
      },
      "outputs": [],
      "source": [
        "x =\n",
        "y = 3*3*3*3*3\n",
        "\n",
        "if x > y :\n",
        "  print (\"2^8 > 8^2\")\n",
        "elif x < y :\n",
        "  print (\"2^8<8^2\")\n",
        "else :\n",
        "  print (\"2^8 = 8^2\")"
      ]
    },
    {
      "cell_type": "markdown",
      "metadata": {
        "editable": true,
        "tags": [],
        "id": "EmWuMp6fb7jT"
      },
      "source": [
        "3. Is $\\frac{3 \\sqrt{2}}{4}$ larger, less than, or equal to $\\frac{4 \\sqrt{9}}{2^2}$ ?"
      ]
    },
    {
      "cell_type": "code",
      "execution_count": null,
      "metadata": {
        "editable": true,
        "tags": [],
        "id": "YAAWGPaSb7jT"
      },
      "outputs": [],
      "source": []
    },
    {
      "cell_type": "markdown",
      "metadata": {
        "editable": true,
        "tags": [],
        "id": "_JRU6RWQb7jT"
      },
      "source": [
        "### Conditionals and Control Flow"
      ]
    },
    {
      "cell_type": "markdown",
      "metadata": {
        "editable": true,
        "tags": [],
        "id": "VeSd8htRb7jT"
      },
      "source": [
        "1. Set a variable `x` equal to 3. Set a second variable `threshold` equal to 12. Create an `if`/`else` statement to print a statement to say if $2^x$ is above or below the `threshold` value. Test your method by changing what `x` is set to."
      ]
    },
    {
      "cell_type": "code",
      "execution_count": null,
      "metadata": {
        "editable": true,
        "tags": [],
        "id": "eqCrDltXb7jT"
      },
      "outputs": [],
      "source": []
    },
    {
      "cell_type": "markdown",
      "metadata": {
        "editable": true,
        "tags": [],
        "id": "_dTgSBhqb7jT"
      },
      "source": [
        "2. For integer values of radii from 2 up to and including 7, calculate and print both area and circumference for each circle."
      ]
    },
    {
      "cell_type": "code",
      "execution_count": null,
      "metadata": {
        "editable": true,
        "tags": [],
        "id": "pSo-edMWb7jT"
      },
      "outputs": [],
      "source": []
    },
    {
      "cell_type": "markdown",
      "metadata": {
        "editable": true,
        "tags": [],
        "id": "9UMtosFCb7jT"
      },
      "source": [
        "3. Using a `while`-loop, compute the summation $\\sum_{i=1}^{10} 2i$ and print the result."
      ]
    },
    {
      "cell_type": "code",
      "execution_count": null,
      "metadata": {
        "editable": true,
        "tags": [],
        "id": "8et4HEZab7jT"
      },
      "outputs": [],
      "source": []
    }
  ],
  "metadata": {
    "colab": {
      "provenance": [],
      "include_colab_link": true
    },
    "kernelspec": {
      "display_name": "Python 3 (ipykernel)",
      "language": "python",
      "name": "python3"
    },
    "language_info": {
      "codemirror_mode": {
        "name": "ipython",
        "version": 3
      },
      "file_extension": ".py",
      "mimetype": "text/x-python",
      "name": "python",
      "nbconvert_exporter": "python",
      "pygments_lexer": "ipython3",
      "version": "3.10.18"
    }
  },
  "nbformat": 4,
  "nbformat_minor": 0
}