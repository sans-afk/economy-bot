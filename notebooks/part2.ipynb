{
  "cells": [
    {
      "cell_type": "markdown",
      "metadata": {
        "id": "view-in-github",
        "colab_type": "text"
      },
      "source": [
        "<a href=\"https://colab.research.google.com/github/sans-afk/economy-bot/blob/main/notebooks/part2.ipynb\" target=\"_parent\"><img src=\"https://colab.research.google.com/assets/colab-badge.svg\" alt=\"Open In Colab\"/></a>"
      ]
    },
    {
      "cell_type": "markdown",
      "id": "3a1720eb",
      "metadata": {
        "editable": true,
        "id": "3a1720eb",
        "tags": []
      },
      "source": [
        "# Data Structures\n",
        "\n",
        "We have seen that elements of data can take on different types (`int`, `float`, `str`, etc). Collections of data elements can be stored in different data structures."
      ]
    },
    {
      "cell_type": "markdown",
      "id": "13f12c5c-6626-4e6f-8ea1-21d8e5c260a5",
      "metadata": {
        "editable": true,
        "id": "13f12c5c-6626-4e6f-8ea1-21d8e5c260a5",
        "tags": []
      },
      "source": [
        "Let's have a look at some of the most commonly used data structures, and how we can manipulate them."
      ]
    },
    {
      "cell_type": "markdown",
      "id": "6f1880ab",
      "metadata": {
        "editable": true,
        "id": "6f1880ab",
        "tags": []
      },
      "source": [
        "## Lists\n",
        "\n",
        "Lists are instantiated with `[]`, and elements in a list are separated with commas."
      ]
    },
    {
      "cell_type": "markdown",
      "id": "413c20f7-aa72-4841-bb18-2fd2e3f04e9b",
      "metadata": {
        "editable": true,
        "id": "413c20f7-aa72-4841-bb18-2fd2e3f04e9b",
        "tags": []
      },
      "source": [
        "Let's create a list of the planets and check the length of the list:"
      ]
    },
    {
      "cell_type": "code",
      "execution_count": null,
      "id": "28197af7",
      "metadata": {
        "editable": true,
        "id": "28197af7",
        "outputId": "0412eb78-9955-468e-e374-5c007d543877",
        "tags": []
      },
      "outputs": [
        {
          "name": "stdout",
          "output_type": "stream",
          "text": [
            "['earth', 'jupiter', 'neptune', 'pluto', 'venus', 'mars', 'mercury', 'uranus', 'saturn']\n"
          ]
        }
      ],
      "source": [
        "planets = [\"earth\", \"jupiter\", \"neptune\", \"pluto\", \"venus\", \"mars\", \"mercury\", \"uranus\", \"saturn\"]\n",
        "\n",
        "print(planets)"
      ]
    },
    {
      "cell_type": "code",
      "execution_count": null,
      "id": "fa536bbd-8284-43b7-b3bf-51966dde1376",
      "metadata": {
        "editable": true,
        "id": "fa536bbd-8284-43b7-b3bf-51966dde1376",
        "outputId": "19e3bc4c-7ee7-46d4-c57a-f02163757485",
        "tags": []
      },
      "outputs": [
        {
          "name": "stdout",
          "output_type": "stream",
          "text": [
            "9\n"
          ]
        }
      ],
      "source": [
        "print(len(planets))"
      ]
    },
    {
      "cell_type": "markdown",
      "id": "69c883ca",
      "metadata": {
        "editable": true,
        "id": "69c883ca",
        "tags": []
      },
      "source": [
        "Lists have a lot of flexibility: objects in lists can be moved around, removed, additional items can be inserted, and more. List objects have many functions to perform such operations. An extensive list of these functions can be viewed here: https://docs.python.org/3/tutorial/datastructures.html#more-on-lists"
      ]
    },
    {
      "cell_type": "markdown",
      "id": "1aaa256e-cbb4-43b7-9fb0-dbe9ed40ba17",
      "metadata": {
        "editable": true,
        "id": "1aaa256e-cbb4-43b7-9fb0-dbe9ed40ba17",
        "tags": []
      },
      "source": [
        "Let's remove an item from this list."
      ]
    },
    {
      "cell_type": "code",
      "execution_count": null,
      "id": "5c283920",
      "metadata": {
        "editable": true,
        "id": "5c283920",
        "outputId": "0b648c0d-1ab2-4d23-ce63-ee8005642073",
        "tags": []
      },
      "outputs": [
        {
          "name": "stdout",
          "output_type": "stream",
          "text": [
            "['earth', 'jupiter', 'neptune', 'venus', 'mars', 'mercury', 'uranus', 'saturn']\n"
          ]
        }
      ],
      "source": [
        "planets.remove(\"pluto\")\n",
        "\n",
        "print(planets)"
      ]
    },
    {
      "cell_type": "code",
      "execution_count": null,
      "id": "029e83db-d2ed-4386-99db-f6c1bf37397f",
      "metadata": {
        "editable": true,
        "id": "029e83db-d2ed-4386-99db-f6c1bf37397f",
        "outputId": "513b8bcf-ee5b-449a-f993-ed58f9bd3031",
        "tags": []
      },
      "outputs": [
        {
          "name": "stdout",
          "output_type": "stream",
          "text": [
            "8\n"
          ]
        }
      ],
      "source": [
        "print(len(planets))"
      ]
    },
    {
      "cell_type": "markdown",
      "id": "0b06f19b",
      "metadata": {
        "editable": true,
        "id": "0b06f19b",
        "tags": []
      },
      "source": [
        "Let's add an item as well:"
      ]
    },
    {
      "cell_type": "code",
      "execution_count": null,
      "id": "d5ae7aa1",
      "metadata": {
        "editable": true,
        "id": "d5ae7aa1",
        "outputId": "ae0ec6f0-6870-4cd6-c4a2-d782e24d3d5d",
        "tags": []
      },
      "outputs": [
        {
          "name": "stdout",
          "output_type": "stream",
          "text": [
            "['earth', 'jupiter', 'neptune', 'venus', 'mars', 'mercury', 'uranus', 'saturn', 'planet_9']\n"
          ]
        }
      ],
      "source": [
        "planets.append(\"planet_9\")\n",
        "\n",
        "print(planets)"
      ]
    },
    {
      "cell_type": "code",
      "execution_count": null,
      "id": "bd065493",
      "metadata": {
        "editable": true,
        "tags": [],
        "id": "bd065493",
        "outputId": "eedc6798-2d6a-4941-8e39-d49ad454aa61"
      },
      "outputs": [
        {
          "name": "stdout",
          "output_type": "stream",
          "text": [
            "9\n"
          ]
        }
      ],
      "source": [
        "print(len(planets))"
      ]
    },
    {
      "cell_type": "markdown",
      "id": "7fba2ee8",
      "metadata": {
        "editable": true,
        "id": "7fba2ee8",
        "tags": []
      },
      "source": [
        "### Indexing\n",
        "\n",
        "Indices are used to point towards the position of certain elements or chunks of a data structure, such as lists, but also with strings.\n",
        "\n",
        "Each item in a list can be indexed by their position in the list, the first item in the list being indexed with `0`."
      ]
    },
    {
      "cell_type": "code",
      "execution_count": null,
      "id": "90d62033",
      "metadata": {
        "editable": true,
        "id": "90d62033",
        "outputId": "f436be59-7a8e-4f92-b994-357177dc2c35",
        "tags": []
      },
      "outputs": [
        {
          "name": "stdout",
          "output_type": "stream",
          "text": [
            "['earth', 'jupiter', 'neptune', 'venus', 'mars', 'mercury', 'uranus', 'saturn', 'planet_9']\n"
          ]
        }
      ],
      "source": [
        "print(planets)"
      ]
    },
    {
      "cell_type": "code",
      "execution_count": null,
      "id": "56a92d60-44a5-4f7f-81bd-0911aa5f0d40",
      "metadata": {
        "editable": true,
        "id": "56a92d60-44a5-4f7f-81bd-0911aa5f0d40",
        "outputId": "bb236baa-77bc-4f19-ec64-022ab1d8d84a",
        "tags": []
      },
      "outputs": [
        {
          "name": "stdout",
          "output_type": "stream",
          "text": [
            "earth\n"
          ]
        }
      ],
      "source": [
        "print(planets[0])"
      ]
    },
    {
      "cell_type": "code",
      "execution_count": null,
      "id": "319f9943-cbd4-482f-b5c5-dcc3545aa871",
      "metadata": {
        "editable": true,
        "id": "319f9943-cbd4-482f-b5c5-dcc3545aa871",
        "outputId": "1e944847-392b-46e2-c947-6b46118405c9",
        "tags": []
      },
      "outputs": [
        {
          "name": "stdout",
          "output_type": "stream",
          "text": [
            "venus\n"
          ]
        }
      ],
      "source": [
        "print(planets[3])"
      ]
    },
    {
      "cell_type": "code",
      "execution_count": null,
      "id": "19db0dd0-c724-4b52-ad5a-77fde075f46a",
      "metadata": {
        "editable": true,
        "id": "19db0dd0-c724-4b52-ad5a-77fde075f46a",
        "outputId": "84a460ad-38bc-4397-9199-e522ec5c1e48",
        "tags": []
      },
      "outputs": [
        {
          "name": "stdout",
          "output_type": "stream",
          "text": [
            "saturn\n"
          ]
        }
      ],
      "source": [
        "print(planets[7])"
      ]
    },
    {
      "cell_type": "markdown",
      "id": "83a3f033",
      "metadata": {
        "editable": true,
        "id": "83a3f033",
        "tags": []
      },
      "source": [
        "If we try to index with a number that is greater than the maximum possible index (in this case 7, because there are 8 items in the list), then we will receive an error.\n",
        "\n",
        "```python\n",
        "print(planets[8]) -> error\n",
        "```"
      ]
    },
    {
      "cell_type": "markdown",
      "id": "600553c3-b230-441f-87b8-3c5708b6f5eb",
      "metadata": {
        "editable": true,
        "id": "600553c3-b230-441f-87b8-3c5708b6f5eb",
        "tags": []
      },
      "source": [
        "We can also use a `-` to count backwards from the end of the list, beginning with `-1`:"
      ]
    },
    {
      "cell_type": "code",
      "execution_count": null,
      "id": "3f6013c4",
      "metadata": {
        "editable": true,
        "id": "3f6013c4",
        "outputId": "ffbf0020-680b-488e-aed4-155ccbbaf569",
        "tags": []
      },
      "outputs": [
        {
          "name": "stdout",
          "output_type": "stream",
          "text": [
            "['earth', 'jupiter', 'neptune', 'venus', 'mars', 'mercury', 'uranus', 'saturn', 'planet_9']\n"
          ]
        }
      ],
      "source": [
        "print(planets)"
      ]
    },
    {
      "cell_type": "code",
      "execution_count": null,
      "id": "896f3b6b-3c9c-4de6-a6fb-8dedff8bb3ed",
      "metadata": {
        "editable": true,
        "id": "896f3b6b-3c9c-4de6-a6fb-8dedff8bb3ed",
        "outputId": "902ad921-27f9-4bf3-a8a9-097cf61326ca",
        "tags": []
      },
      "outputs": [
        {
          "name": "stdout",
          "output_type": "stream",
          "text": [
            "planet_9\n"
          ]
        }
      ],
      "source": [
        "print(planets[-1])"
      ]
    },
    {
      "cell_type": "code",
      "execution_count": null,
      "id": "043e3885-ec7a-4826-9ec3-1cb921e8e876",
      "metadata": {
        "editable": true,
        "id": "043e3885-ec7a-4826-9ec3-1cb921e8e876",
        "outputId": "04c241e2-bf84-4549-8200-50bd368c6af8",
        "tags": []
      },
      "outputs": [
        {
          "name": "stdout",
          "output_type": "stream",
          "text": [
            "mercury\n"
          ]
        }
      ],
      "source": [
        "print(planets[-4])"
      ]
    },
    {
      "cell_type": "markdown",
      "id": "1d522d36",
      "metadata": {
        "editable": true,
        "id": "1d522d36",
        "tags": []
      },
      "source": [
        "And we can use indexes to slice a list using a `:` with the starting index (inclusive) on the left of the colon and ending index (exclusive) on the right:"
      ]
    },
    {
      "cell_type": "code",
      "execution_count": null,
      "id": "80972f13",
      "metadata": {
        "editable": true,
        "id": "80972f13",
        "outputId": "797e5485-fc63-4f10-c0b1-5dae401cfc13",
        "tags": []
      },
      "outputs": [
        {
          "name": "stdout",
          "output_type": "stream",
          "text": [
            "['earth', 'jupiter', 'neptune', 'venus', 'mars', 'mercury', 'uranus', 'saturn', 'planet_9']\n"
          ]
        }
      ],
      "source": [
        "print(planets)"
      ]
    },
    {
      "cell_type": "code",
      "execution_count": null,
      "id": "7bd074a2-cc06-49f4-8061-a69565d72c36",
      "metadata": {
        "editable": true,
        "id": "7bd074a2-cc06-49f4-8061-a69565d72c36",
        "outputId": "c9b1b32a-ef52-4ae8-8bcc-5e8d20a89714",
        "tags": []
      },
      "outputs": [
        {
          "name": "stdout",
          "output_type": "stream",
          "text": [
            "['neptune', 'venus', 'mars']\n"
          ]
        }
      ],
      "source": [
        "print(planets[2:5])"
      ]
    },
    {
      "cell_type": "markdown",
      "id": "e8e96f90",
      "metadata": {
        "editable": true,
        "id": "e8e96f90",
        "tags": []
      },
      "source": [
        "Leaving out one of the two indices when using `:` will return every item before/after the included index:"
      ]
    },
    {
      "cell_type": "code",
      "execution_count": null,
      "id": "bc982a40",
      "metadata": {
        "editable": true,
        "id": "bc982a40",
        "outputId": "4a066051-b30a-4565-9539-2239af579e8e",
        "tags": []
      },
      "outputs": [
        {
          "name": "stdout",
          "output_type": "stream",
          "text": [
            "['earth', 'jupiter', 'neptune', 'venus', 'mars', 'mercury', 'uranus', 'saturn', 'planet_9']\n"
          ]
        }
      ],
      "source": [
        "print(planets)"
      ]
    },
    {
      "cell_type": "code",
      "execution_count": null,
      "id": "2cb81747-9209-427b-bde2-6a69c86a24b0",
      "metadata": {
        "editable": true,
        "id": "2cb81747-9209-427b-bde2-6a69c86a24b0",
        "outputId": "6e4ffea4-b2a1-42ba-d28d-4b36d8ffc914",
        "tags": []
      },
      "outputs": [
        {
          "name": "stdout",
          "output_type": "stream",
          "text": [
            "['neptune', 'venus', 'mars', 'mercury', 'uranus', 'saturn', 'planet_9']\n"
          ]
        }
      ],
      "source": [
        "print(planets[2:])"
      ]
    },
    {
      "cell_type": "code",
      "execution_count": null,
      "id": "0e8cd18e-cff1-43e7-bf45-5279026e2566",
      "metadata": {
        "editable": true,
        "id": "0e8cd18e-cff1-43e7-bf45-5279026e2566",
        "outputId": "a735fa66-211e-4a98-e492-2458772c8619",
        "tags": []
      },
      "outputs": [
        {
          "name": "stdout",
          "output_type": "stream",
          "text": [
            "['earth', 'jupiter']\n"
          ]
        }
      ],
      "source": [
        "print(planets[:2])"
      ]
    },
    {
      "cell_type": "markdown",
      "id": "e301f995",
      "metadata": {
        "editable": true,
        "id": "e301f995",
        "tags": []
      },
      "source": [
        "## Dictionaries\n",
        "\n",
        "Dictionaries are instantiated with `{}`, and contain pairs of keys and values. A key is a label for its corresponding value, and are used like indices:"
      ]
    },
    {
      "cell_type": "code",
      "execution_count": 17,
      "id": "8952889f",
      "metadata": {
        "editable": true,
        "id": "8952889f",
        "outputId": "77113f65-36b5-4f30-8981-a7d5e3f87d3e",
        "tags": [],
        "colab": {
          "base_uri": "https://localhost:8080/"
        }
      },
      "outputs": [
        {
          "output_type": "stream",
          "name": "stdout",
          "text": [
            "{'planet': 'earth', 'moons': 1}\n"
          ]
        }
      ],
      "source": [
        "dictionary = {\"planet\": \"earth\", \"moons\": 1}\n",
        "\n",
        "print(dictionary)"
      ]
    },
    {
      "cell_type": "code",
      "execution_count": 20,
      "id": "b3e60a28-a481-4c65-bdbe-1a711b57754e",
      "metadata": {
        "editable": true,
        "id": "b3e60a28-a481-4c65-bdbe-1a711b57754e",
        "outputId": "7e117c44-a274-4708-eef5-77acd0c1b80d",
        "tags": [],
        "colab": {
          "base_uri": "https://localhost:8080/"
        }
      },
      "outputs": [
        {
          "output_type": "stream",
          "name": "stdout",
          "text": [
            "1\n"
          ]
        }
      ],
      "source": [
        "dictionary = {\"planet\": \"earth\", \"moons\": 1}\n",
        "print(dictionary[\"moons\"])"
      ]
    },
    {
      "cell_type": "markdown",
      "id": "81104206",
      "metadata": {
        "editable": true,
        "id": "81104206",
        "tags": []
      },
      "source": [
        "We can add to a new entry to a dictionary by specifying a new key:"
      ]
    },
    {
      "cell_type": "code",
      "execution_count": null,
      "id": "3b928015",
      "metadata": {
        "editable": true,
        "id": "3b928015",
        "outputId": "fbf4a304-f2f8-4b0b-fe39-63b56f41bce7",
        "tags": []
      },
      "outputs": [
        {
          "name": "stdout",
          "output_type": "stream",
          "text": [
            "{'planet': 'earth', 'moons': 1, 'avg orbital radius (AU)': 1}\n"
          ]
        }
      ],
      "source": [
        "dictionary[\"avg orbital radius (AU)\"] = 1\n",
        "\n",
        "print(dictionary)"
      ]
    },
    {
      "cell_type": "markdown",
      "id": "3ae93820",
      "metadata": {
        "editable": true,
        "id": "3ae93820",
        "tags": []
      },
      "source": [
        "## NumPy Arrays"
      ]
    },
    {
      "cell_type": "markdown",
      "id": "aa189be8-3e2a-49ce-92df-f19279fecd86",
      "metadata": {
        "editable": true,
        "id": "aa189be8-3e2a-49ce-92df-f19279fecd86",
        "tags": []
      },
      "source": [
        "NumPy is a Python library. A library (sometimes called a module) is a collection of pre-written code, open-source and published online, that a user can import to their local project, and make use of its functions. Most libraries do not come with Python by default because libraries can be very specific to a task someone is trying to perform.\n",
        "\n",
        "NumPy is one of the most commonly used libraries, and it is used for projects requiring mathematical operations on data."
      ]
    },
    {
      "cell_type": "markdown",
      "id": "cf938f1c-10ba-4b41-9ca9-ce8b86a4dd5b",
      "metadata": {
        "editable": true,
        "id": "cf938f1c-10ba-4b41-9ca9-ce8b86a4dd5b",
        "tags": []
      },
      "source": [
        "Let's import NumPy:"
      ]
    },
    {
      "cell_type": "code",
      "execution_count": null,
      "id": "61338c37",
      "metadata": {
        "editable": true,
        "id": "61338c37",
        "tags": []
      },
      "outputs": [],
      "source": [
        "import numpy as np"
      ]
    },
    {
      "cell_type": "markdown",
      "id": "8373999e",
      "metadata": {
        "editable": true,
        "id": "8373999e",
        "tags": []
      },
      "source": [
        "Here we have imported NumPy so that our code can use its functions, and we have imported it as `np`, which means whenever we want to reference a NumPy function, we use `np` as an abbreviation."
      ]
    },
    {
      "cell_type": "markdown",
      "id": "336add43-f4b4-401d-812f-6b5d81815735",
      "metadata": {
        "editable": true,
        "id": "336add43-f4b4-401d-812f-6b5d81815735",
        "tags": []
      },
      "source": [
        "NumPy's utility comes in its arrays. They are effectively tables of data, but we aren't limited to just one or two dimensions."
      ]
    },
    {
      "cell_type": "code",
      "execution_count": null,
      "id": "52812b2b",
      "metadata": {
        "editable": true,
        "id": "52812b2b",
        "outputId": "4abdf70e-27de-438f-9172-03bd252fb80b",
        "tags": []
      },
      "outputs": [
        {
          "name": "stdout",
          "output_type": "stream",
          "text": [
            "[1 2 3 4 5]\n"
          ]
        }
      ],
      "source": [
        "data = [1,2,3,4,5]\n",
        "\n",
        "array = np.array(data)\n",
        "\n",
        "print(array)"
      ]
    },
    {
      "cell_type": "markdown",
      "id": "101260a4",
      "metadata": {
        "editable": true,
        "id": "101260a4",
        "tags": []
      },
      "source": [
        "NumPy can perform most mathematical operations you can think of, and it applies these operations to all elements in the array, unless specified otherwise."
      ]
    },
    {
      "cell_type": "code",
      "execution_count": null,
      "id": "929dd5c2",
      "metadata": {
        "editable": true,
        "id": "929dd5c2",
        "outputId": "164a2fa6-e722-41b3-f6cd-b6ede779b5c3",
        "tags": []
      },
      "outputs": [
        {
          "name": "stdout",
          "output_type": "stream",
          "text": [
            "[ 1  4  9 16 25]\n"
          ]
        }
      ],
      "source": [
        "array = array ** 2\n",
        "\n",
        "print(array)"
      ]
    },
    {
      "cell_type": "code",
      "execution_count": null,
      "id": "753d7366-6503-4af2-a03a-abac454802f2",
      "metadata": {
        "editable": true,
        "id": "753d7366-6503-4af2-a03a-abac454802f2",
        "outputId": "72522c0d-25e8-43be-fcf6-21cfe9cb1061",
        "tags": []
      },
      "outputs": [
        {
          "name": "stdout",
          "output_type": "stream",
          "text": [
            "[ 0.84147098 -0.7568025   0.41211849 -0.28790332 -0.13235175]\n"
          ]
        }
      ],
      "source": [
        "array = np.sin(array)\n",
        "\n",
        "print(array)"
      ]
    },
    {
      "cell_type": "markdown",
      "id": "40bb2b26",
      "metadata": {
        "editable": true,
        "id": "40bb2b26",
        "tags": []
      },
      "source": [
        "The line below creates a 3 dimensional array, of size 2x3x4, meaning the first dimension has 2 entries, the second has 3, and the third has 4."
      ]
    },
    {
      "cell_type": "markdown",
      "id": "537f86eb-715f-4c62-9fa2-5006e2899131",
      "metadata": {
        "editable": true,
        "id": "537f86eb-715f-4c62-9fa2-5006e2899131",
        "tags": []
      },
      "source": [
        "NumPy attempts to represent this when printing the array. Each `[]` surrounds an entry in each dimension, working from the first to the last dimensions."
      ]
    },
    {
      "cell_type": "code",
      "execution_count": null,
      "id": "2d019248",
      "metadata": {
        "editable": true,
        "id": "2d019248",
        "outputId": "9944b0cf-7098-4f4d-e1be-fd19e770cd78",
        "tags": []
      },
      "outputs": [
        {
          "name": "stdout",
          "output_type": "stream",
          "text": [
            "[[[0.1957144  0.45812913 0.65040547 0.66573565]\n",
            "  [0.83059356 0.64254932 0.03438246 0.69211507]\n",
            "  [0.10230241 0.78924545 0.29047445 0.87396172]]\n",
            "\n",
            " [[0.50766577 0.38871598 0.10509167 0.98072087]\n",
            "  [0.38386132 0.91173089 0.56926214 0.39920847]\n",
            "  [0.15383333 0.62056617 0.0346073  0.24070121]]]\n"
          ]
        }
      ],
      "source": [
        "array_3d = np.random.rand(2,3,4)\n",
        "\n",
        "print(array_3d)"
      ]
    },
    {
      "cell_type": "code",
      "execution_count": null,
      "id": "4f87dc39-4386-4871-b113-5db1631f9062",
      "metadata": {
        "editable": true,
        "id": "4f87dc39-4386-4871-b113-5db1631f9062",
        "outputId": "92355679-57db-4805-e0bd-4547c12c5b0f",
        "tags": []
      },
      "outputs": [
        {
          "name": "stdout",
          "output_type": "stream",
          "text": [
            "(2, 3, 4)\n"
          ]
        }
      ],
      "source": [
        "print(array_3d.shape)"
      ]
    },
    {
      "cell_type": "markdown",
      "id": "a4be1bfe",
      "metadata": {
        "editable": true,
        "id": "a4be1bfe",
        "tags": []
      },
      "source": [
        "Indexing an array is similar to indexing a list, except we can additionally index across existing dimensions, with comma separated indices to correspond to each of the dimensions."
      ]
    },
    {
      "cell_type": "markdown",
      "id": "baad2d18-0ff7-44aa-beeb-cb687ee3e4b0",
      "metadata": {
        "editable": true,
        "id": "baad2d18-0ff7-44aa-beeb-cb687ee3e4b0",
        "tags": []
      },
      "source": [
        "Prints the first item in the first dimension:"
      ]
    },
    {
      "cell_type": "code",
      "execution_count": null,
      "id": "d12ab169",
      "metadata": {
        "editable": true,
        "id": "d12ab169",
        "outputId": "10437e9e-11f7-4637-f0c5-b81bd06039c8",
        "tags": []
      },
      "outputs": [
        {
          "name": "stdout",
          "output_type": "stream",
          "text": [
            "[[0.1957144  0.45812913 0.65040547 0.66573565]\n",
            " [0.83059356 0.64254932 0.03438246 0.69211507]\n",
            " [0.10230241 0.78924545 0.29047445 0.87396172]]\n"
          ]
        }
      ],
      "source": [
        "print(array_3d[0])"
      ]
    },
    {
      "cell_type": "markdown",
      "id": "e2943373-a9fc-4683-aab4-00c998f17ce7",
      "metadata": {
        "editable": true,
        "id": "e2943373-a9fc-4683-aab4-00c998f17ce7",
        "tags": []
      },
      "source": [
        "Prints the first item in the first and second dimensions:"
      ]
    },
    {
      "cell_type": "code",
      "execution_count": null,
      "id": "197a4245-87e4-4f7b-ab69-b13e7cc3b682",
      "metadata": {
        "editable": true,
        "id": "197a4245-87e4-4f7b-ab69-b13e7cc3b682",
        "outputId": "25c1016c-f1c4-4077-b9bd-c949375fbbd7",
        "tags": []
      },
      "outputs": [
        {
          "name": "stdout",
          "output_type": "stream",
          "text": [
            "[0.1957144  0.45812913 0.65040547 0.66573565]\n"
          ]
        }
      ],
      "source": [
        "print(array_3d[0, 0])"
      ]
    },
    {
      "cell_type": "markdown",
      "id": "c8ca639e-f653-4c24-94e1-294bb0f71016",
      "metadata": {
        "editable": true,
        "id": "c8ca639e-f653-4c24-94e1-294bb0f71016",
        "tags": []
      },
      "source": [
        "Prints the first item in all three dimensions:"
      ]
    },
    {
      "cell_type": "code",
      "execution_count": null,
      "id": "2faeb6b3-426a-40c2-8bb6-640708e1ec27",
      "metadata": {
        "editable": true,
        "id": "2faeb6b3-426a-40c2-8bb6-640708e1ec27",
        "outputId": "5f25cb80-386c-4610-9906-34225f82e2d7",
        "tags": []
      },
      "outputs": [
        {
          "name": "stdout",
          "output_type": "stream",
          "text": [
            "0.19571440179647037\n"
          ]
        }
      ],
      "source": [
        "print(array_3d[0, 0, 0])"
      ]
    },
    {
      "cell_type": "markdown",
      "id": "26966e6b",
      "metadata": {
        "editable": true,
        "id": "26966e6b",
        "tags": []
      },
      "source": [
        "# Exercises"
      ]
    },
    {
      "cell_type": "markdown",
      "id": "1a078c14",
      "metadata": {
        "editable": true,
        "id": "1a078c14",
        "tags": []
      },
      "source": [
        "### Lists & indexing 📋"
      ]
    },
    {
      "cell_type": "markdown",
      "id": "99ad0b84",
      "metadata": {
        "editable": true,
        "id": "99ad0b84",
        "tags": []
      },
      "source": [
        "1. Look at the list of `planets` in the kernel below. Use a `for`-loop and `if` statement to create a list of planets with names longer than 5 characters. Print your resulting list.\n",
        "\n",
        "    _(Hint: start with an empty list `[]` and add to it)_"
      ]
    },
    {
      "cell_type": "code",
      "execution_count": 9,
      "id": "478ea401",
      "metadata": {
        "editable": true,
        "id": "478ea401",
        "tags": [],
        "outputId": "4a202a74-a77e-405f-a742-1fd08d1d307b",
        "colab": {
          "base_uri": "https://localhost:8080/"
        }
      },
      "outputs": [
        {
          "output_type": "stream",
          "name": "stdout",
          "text": [
            "jupiter\n",
            "neptune\n",
            "mercury\n",
            "uranus\n",
            "saturn\n"
          ]
        }
      ],
      "source": [
        "planets = [\"earth\", \"jupiter\", \"neptune\", \"venus\", \"mars\", \"mercury\", \"uranus\", \"saturn\"]\n",
        "\n",
        "for i in range(len(planets)) :\n",
        "  if len(planets[i]) > 5 :\n",
        "    print(planets[i])"
      ]
    },
    {
      "cell_type": "markdown",
      "id": "7b3ebb70",
      "metadata": {
        "editable": true,
        "id": "7b3ebb70",
        "tags": []
      },
      "source": [
        "2. Returning to the original list `planets`, print the second, third and fourth characters of each planet name."
      ]
    },
    {
      "cell_type": "code",
      "execution_count": 13,
      "id": "fd8919a2",
      "metadata": {
        "editable": true,
        "id": "fd8919a2",
        "tags": [],
        "outputId": "20437640-8b1f-4161-b48d-c4ea742cdb5d",
        "colab": {
          "base_uri": "https://localhost:8080/",
          "height": 193
        }
      },
      "outputs": [
        {
          "output_type": "error",
          "ename": "TypeError",
          "evalue": "cannot create 'numpy.character' instances",
          "traceback": [
            "\u001b[0;31m---------------------------------------------------------------------------\u001b[0m",
            "\u001b[0;31mTypeError\u001b[0m                                 Traceback (most recent call last)",
            "\u001b[0;32m/tmp/ipython-input-13-3493129228.py\u001b[0m in \u001b[0;36m<cell line: 0>\u001b[0;34m()\u001b[0m\n\u001b[1;32m      4\u001b[0m \u001b[0;34m\u001b[0m\u001b[0m\n\u001b[1;32m      5\u001b[0m \u001b[0;32mfor\u001b[0m \u001b[0mi\u001b[0m \u001b[0;32min\u001b[0m \u001b[0mrange\u001b[0m\u001b[0;34m(\u001b[0m\u001b[0mlen\u001b[0m\u001b[0;34m(\u001b[0m\u001b[0mplanets\u001b[0m\u001b[0;34m)\u001b[0m\u001b[0;34m)\u001b[0m \u001b[0;34m:\u001b[0m\u001b[0;34m\u001b[0m\u001b[0;34m\u001b[0m\u001b[0m\n\u001b[0;32m----> 6\u001b[0;31m   \u001b[0;32mif\u001b[0m \u001b[0mnp\u001b[0m\u001b[0;34m.\u001b[0m\u001b[0mcharacter\u001b[0m\u001b[0;34m(\u001b[0m\u001b[0mplanets\u001b[0m\u001b[0;34m[\u001b[0m\u001b[0mi\u001b[0m\u001b[0;34m]\u001b[0m\u001b[0;34m)\u001b[0m \u001b[0;34m==\u001b[0m \u001b[0;36m2\u001b[0m \u001b[0;34m:\u001b[0m\u001b[0;34m\u001b[0m\u001b[0;34m\u001b[0m\u001b[0m\n\u001b[0m\u001b[1;32m      7\u001b[0m     \u001b[0mprint\u001b[0m\u001b[0;34m(\u001b[0m\u001b[0mplanets\u001b[0m\u001b[0;34m[\u001b[0m\u001b[0mi\u001b[0m\u001b[0;34m]\u001b[0m\u001b[0;34m)\u001b[0m\u001b[0;34m\u001b[0m\u001b[0;34m\u001b[0m\u001b[0m\n",
            "\u001b[0;31mTypeError\u001b[0m: cannot create 'numpy.character' instances"
          ]
        }
      ],
      "source": [
        "import numpy as np\n",
        "\n",
        "planets = [\"earth\", \"jupiter\", \"neptune\", \"venus\", \"mars\", \"mercury\", \"uranus\", \"saturn\"]\n",
        "\n",
        "for i in range(len(planets)) :\n",
        "  if np.character(planets[i]) == 2 :\n",
        "    print(planets[i])\n"
      ]
    },
    {
      "cell_type": "markdown",
      "id": "ee3e5922",
      "metadata": {
        "editable": true,
        "id": "ee3e5922",
        "tags": []
      },
      "source": [
        "### Dictionaries 📖"
      ]
    },
    {
      "cell_type": "markdown",
      "id": "ca11db6d",
      "metadata": {
        "editable": true,
        "id": "ca11db6d",
        "tags": []
      },
      "source": [
        "1. Create a dictionary called `mars_info` with keys:\n",
        "    - \"planet\" set to \"mars\"\n",
        "    - \"moons\" set to 2\n",
        "    - \"has_rings\" set to False\n",
        "\n",
        "2. Add a new key \"diameter_km\" with value 6792 to your mars_info dictionary.\n",
        "\n",
        "3. Print the sentence:\n",
        "`Mars has`<>`moons and a diameter of`<>`km` where <> is replaced with values from the dictionary."
      ]
    },
    {
      "cell_type": "code",
      "execution_count": 28,
      "id": "80d7107a",
      "metadata": {
        "editable": true,
        "id": "80d7107a",
        "tags": [],
        "outputId": "b2d12ff3-d2f0-42a1-e675-2bf24f61b6b5",
        "colab": {
          "base_uri": "https://localhost:8080/"
        }
      },
      "outputs": [
        {
          "output_type": "stream",
          "name": "stdout",
          "text": [
            "{'planet': 'mars', 'moons': '2', 'has_rings': 'false', 'diamater in km': 6792}\n"
          ]
        }
      ],
      "source": [
        "dictionary = {\"planet\": \"mars\", \"moons\": \"2\", \"has_rings\": \"false\"}\n",
        "dictionary[\"diamater in km\"] = 6792\n",
        "\n",
        "print(dictionary)"
      ]
    },
    {
      "cell_type": "markdown",
      "id": "9e48f938",
      "metadata": {
        "editable": true,
        "id": "9e48f938",
        "tags": []
      },
      "source": [
        "### NumPy Arrays 🧮\n",
        "\n",
        "You will need to use Google to help with how to use some of these functions! Or, directly use the NumPy documentation: https://numpy.org/doc/2.3/"
      ]
    },
    {
      "cell_type": "markdown",
      "id": "b205da16",
      "metadata": {
        "editable": true,
        "id": "b205da16",
        "tags": []
      },
      "source": [
        "1a. Create a `NumPy` array with the numbers 0 to 9 using `np.linspace()`\n",
        "\n",
        "1b. Multiply all elements by 3 and print the result.\n",
        "\n",
        "1c. Create an array of random numbers between 0 and 1 of size 2x3 using `np.random.rand()`."
      ]
    },
    {
      "cell_type": "code",
      "execution_count": null,
      "id": "b0a8687f",
      "metadata": {
        "editable": true,
        "id": "b0a8687f",
        "tags": []
      },
      "outputs": [],
      "source": []
    },
    {
      "cell_type": "markdown",
      "id": "17b1ea20",
      "metadata": {
        "editable": true,
        "id": "17b1ea20",
        "tags": []
      },
      "source": [
        "2a. Create two NumPy arrays of size 3 representing 3D vectors using `np.random.randint()`.\n",
        "\n",
        "2b. Compute their:\n",
        "    - Dot product (`np.dot()`)\n",
        "    - Cross product (`np.cross()`)\n",
        "    - Angle between them in degrees (use `np.arccos()` and `np.linalg.norm()`)"
      ]
    },
    {
      "cell_type": "code",
      "execution_count": null,
      "id": "577cdec7",
      "metadata": {
        "editable": true,
        "id": "577cdec7",
        "tags": []
      },
      "outputs": [],
      "source": []
    }
  ],
  "metadata": {
    "colab": {
      "provenance": [],
      "include_colab_link": true
    },
    "kernelspec": {
      "display_name": "Python 3 (ipykernel)",
      "language": "python",
      "name": "python3"
    },
    "language_info": {
      "codemirror_mode": {
        "name": "ipython",
        "version": 3
      },
      "file_extension": ".py",
      "mimetype": "text/x-python",
      "name": "python",
      "nbconvert_exporter": "python",
      "pygments_lexer": "ipython3",
      "version": "3.13.5"
    }
  },
  "nbformat": 4,
  "nbformat_minor": 5
}