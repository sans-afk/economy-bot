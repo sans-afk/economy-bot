{
  "cells": [
    {
      "cell_type": "markdown",
      "metadata": {
        "id": "view-in-github",
        "colab_type": "text"
      },
      "source": [
        "<a href=\"https://colab.research.google.com/github/sans-afk/economy-bot/blob/main/notebooks/part3.ipynb\" target=\"_parent\"><img src=\"https://colab.research.google.com/assets/colab-badge.svg\" alt=\"Open In Colab\"/></a>"
      ]
    },
    {
      "cell_type": "markdown",
      "id": "7a85e0f6",
      "metadata": {
        "editable": true,
        "id": "7a85e0f6",
        "tags": []
      },
      "source": [
        "# Functions\n",
        "\n",
        "Functions are objects that perform a specified task and can be reused at a later point without having to rewrite the code. They can be thought of exactly like a function $f(x)$ in maths, except we are not limited to mathematical operations."
      ]
    },
    {
      "cell_type": "markdown",
      "id": "3c18bba7-2816-4246-be80-435398a246f6",
      "metadata": {
        "editable": true,
        "id": "3c18bba7-2816-4246-be80-435398a246f6",
        "tags": []
      },
      "source": [
        "Let's define a function to calculate the force between two massive objects $F = G \\frac{m_1 m_2}{r^2}$:"
      ]
    },
    {
      "cell_type": "code",
      "execution_count": null,
      "id": "fd6bce8c",
      "metadata": {
        "editable": true,
        "id": "fd6bce8c",
        "tags": []
      },
      "outputs": [],
      "source": [
        "def gravitational_force(m1, m2, r, G=6.7e-11):\n",
        "\n",
        "    force = G * m1 * m2 / r**2\n",
        "\n",
        "    return force"
      ]
    },
    {
      "cell_type": "markdown",
      "id": "eee96e54",
      "metadata": {
        "editable": true,
        "id": "eee96e54",
        "tags": []
      },
      "source": [
        "We can now use `gravitational_force` any number of times to calculate the force between two objects of any mass and radius."
      ]
    },
    {
      "cell_type": "markdown",
      "id": "770f44a4-280c-4729-87be-19fbe92949be",
      "metadata": {
        "editable": true,
        "id": "770f44a4-280c-4729-87be-19fbe92949be",
        "tags": []
      },
      "source": [
        "`m1`, `m2`, `r` and `G` are the arguments of our function. `G` is an optional argument, as it is by default defined as $6.7\\times10^{-11}$, therefore we do not need to provide it when calling our function, unless we wanted to use a different e.g. more precise value."
      ]
    },
    {
      "cell_type": "markdown",
      "id": "e2e34a8f-f8d6-42d5-9da4-be0a7f4ad69d",
      "metadata": {
        "editable": true,
        "id": "e2e34a8f-f8d6-42d5-9da4-be0a7f4ad69d",
        "tags": []
      },
      "source": [
        "Often we want functions to return some result. Using `return` will exit the function, and return the specified objects, in this case the calculated force."
      ]
    },
    {
      "cell_type": "markdown",
      "id": "81bb02e9-c82b-4d65-9f1f-e78177f2552d",
      "metadata": {
        "editable": true,
        "id": "81bb02e9-c82b-4d65-9f1f-e78177f2552d",
        "tags": []
      },
      "source": [
        "Let's have a go at using our function:"
      ]
    },
    {
      "cell_type": "code",
      "execution_count": null,
      "id": "2a736860",
      "metadata": {
        "editable": true,
        "id": "2a736860",
        "outputId": "077d88f0-1614-4048-f5c9-576519534295",
        "tags": []
      },
      "outputs": [
        {
          "name": "stdout",
          "output_type": "stream",
          "text": [
            "3.5733333333333336e+22 N\n"
          ]
        }
      ],
      "source": [
        "mass_earth = 6.0e24\n",
        "mass_sun = 2.0e30\n",
        "radius = 1.5e11\n",
        "\n",
        "gravitational_force = gravitational_force(mass_earth, mass_sun, radius)\n",
        "print(gravitational_force, \"N\")"
      ]
    },
    {
      "cell_type": "markdown",
      "id": "6bbb06cc",
      "metadata": {
        "editable": true,
        "id": "6bbb06cc",
        "tags": []
      },
      "source": [
        "Arguments are positional, meaning we have to provide the function with them in the correct order, as specified when defining the function earlier. Otherwise, we can specify them in any order using the assignment `=` operator e.g.\n",
        "``` python\n",
        "gravitational_force(r=radius, m1=mass_earth, m2=mass_sun)\n",
        "```"
      ]
    },
    {
      "cell_type": "markdown",
      "id": "b7a032d4-c7be-48c5-825c-a442ec6ffd3b",
      "metadata": {
        "editable": true,
        "id": "b7a032d4-c7be-48c5-825c-a442ec6ffd3b",
        "tags": []
      },
      "source": [
        "Variables created inside the function cannot be accessed outside the function. For example:\n",
        "\n",
        "```python\n",
        "gravitational_force(mass_earth, mass_sun, radius)\n",
        "\n",
        "print(force)\n",
        "```\n",
        "will produce an error as `force` is not defined outside of the function. As the returned value of our function has not been assigned to some variable, it is lost."
      ]
    },
    {
      "cell_type": "markdown",
      "id": "b7ecdb3d",
      "metadata": {
        "editable": true,
        "id": "b7ecdb3d",
        "tags": []
      },
      "source": [
        "# List Comprehension\n",
        "\n",
        "List comprehension is a shorthand method for performing functions on items in a list. For example:"
      ]
    },
    {
      "cell_type": "code",
      "execution_count": null,
      "id": "5c38eccd",
      "metadata": {
        "editable": true,
        "id": "5c38eccd",
        "outputId": "91b4385a-5870-4d5d-acf1-757744b54935",
        "tags": []
      },
      "outputs": [
        {
          "name": "stdout",
          "output_type": "stream",
          "text": [
            "[1, 4, 9, 16, 25]\n"
          ]
        }
      ],
      "source": [
        "numbers = [1, 2, 3, 4, 5]\n",
        "\n",
        "squared_numbers = [x**2 for x in numbers]\n",
        "\n",
        "print(squared_numbers)"
      ]
    },
    {
      "cell_type": "markdown",
      "id": "55514ab2",
      "metadata": {
        "editable": true,
        "tags": [],
        "id": "55514ab2"
      },
      "source": [
        "This is a shorthand for doing:"
      ]
    },
    {
      "cell_type": "code",
      "execution_count": null,
      "id": "f08a7f99",
      "metadata": {
        "editable": true,
        "tags": [],
        "id": "f08a7f99",
        "outputId": "554df657-fea1-42bf-b952-1991fc43aef6"
      },
      "outputs": [
        {
          "name": "stdout",
          "output_type": "stream",
          "text": [
            "[1, 4, 9, 16, 25]\n"
          ]
        }
      ],
      "source": [
        "squared_numbers = []\n",
        "\n",
        "for x in numbers:\n",
        "    squared_numbers.append(x**2)\n",
        "\n",
        "print(squared_numbers)"
      ]
    },
    {
      "cell_type": "markdown",
      "id": "ec790428",
      "metadata": {
        "editable": true,
        "id": "ec790428",
        "tags": []
      },
      "source": [
        "# Matplotlib\n",
        "\n",
        "Matplotlib is a Python library for plotting data, and is used extensively by scientists for presenting their data.\n",
        "\n",
        "Matplotlib has a huge amount of customization, but today we will keep it simple."
      ]
    },
    {
      "cell_type": "code",
      "execution_count": null,
      "id": "e2086f31",
      "metadata": {
        "editable": true,
        "id": "e2086f31",
        "outputId": "b418b7f3-17c0-4e80-d275-b70c206f3c1b",
        "tags": []
      },
      "outputs": [
        {
          "data": {
            "text/plain": [
              "Text(0, 0.5, 'sin(x)')"
            ]
          },
          "execution_count": 5,
          "metadata": {},
          "output_type": "execute_result"
        },
        {
          "data": {
            "image/png": "[encoded data removed]",
            "text/plain": [
              "<Figure size 640x480 with 1 Axes>"
            ]
          },
          "metadata": {},
          "output_type": "display_data"
        }
      ],
      "source": [
        "import numpy as np\n",
        "import matplotlib.pyplot as plt\n",
        "\n",
        "x = np.linspace(0, 2*np.pi, 100)\n",
        "\n",
        "plt.plot(x, np.sin(x))\n",
        "plt.xlabel(\"x\")\n",
        "plt.ylabel(\"sin(x)\")"
      ]
    },
    {
      "cell_type": "markdown",
      "id": "5c895704",
      "metadata": {
        "editable": true,
        "id": "5c895704",
        "tags": []
      },
      "source": [
        "By default, `plt.plot()` connects points with lines. Alternatively, we might want a scatter graph:"
      ]
    },
    {
      "cell_type": "code",
      "execution_count": null,
      "id": "75884237",
      "metadata": {
        "editable": true,
        "id": "75884237",
        "outputId": "9be2e83d-9722-45af-a621-36a27677ce12",
        "tags": []
      },
      "outputs": [
        {
          "data": {
            "text/plain": [
              "Text(0, 0.5, 'sin(x)')"
            ]
          },
          "execution_count": 6,
          "metadata": {},
          "output_type": "execute_result"
        },
        {
          "data": {
            "image/png": "[encoded data removed]",
            "text/plain": [
              "<Figure size 640x480 with 1 Axes>"
            ]
          },
          "metadata": {},
          "output_type": "display_data"
        }
      ],
      "source": [
        "# Here marker='.' makes it a scatter plot with small dots,\n",
        "# and linewidths=0.1 controls the size of the dots\n",
        "plt.scatter(x, np.sin(x), marker='.', linewidths=0.1)\n",
        "plt.xlabel(\"x\")\n",
        "plt.ylabel(\"sin(x)\")"
      ]
    },
    {
      "cell_type": "markdown",
      "id": "d02dd20f",
      "metadata": {
        "editable": true,
        "id": "d02dd20f",
        "tags": []
      },
      "source": [
        "# Exercises\n",
        "\n",
        "### 🧠 Function Practice – A Variety of Small Scientific Tools"
      ]
    },
    {
      "cell_type": "markdown",
      "id": "6e96e1fb",
      "metadata": {
        "editable": true,
        "id": "6e96e1fb",
        "tags": []
      },
      "source": [
        "### 📏 Orbital Period Calculator\n",
        "\n",
        "Write a function `orbital_period(semi_major_axis)` that calculates the orbital period (in Earth years) using **Kepler’s Third Law**:\n",
        "\n",
        "$$\n",
        "T = \\sqrt{a^3}\n",
        "$$\n",
        "\n",
        "Where `a` is the orbital radius in AU.\n",
        "Test it on Earth (1 AU), Mars (1.52 AU), and Jupiter (5.2 AU)."
      ]
    },
    {
      "cell_type": "code",
      "execution_count": 13,
      "id": "6a3448b7",
      "metadata": {
        "editable": true,
        "id": "6a3448b7",
        "tags": [],
        "outputId": "bf45020b-9cb5-40c6-a6ea-7a0d3228e7db",
        "colab": {
          "base_uri": "https://localhost:8080/"
        }
      },
      "outputs": [
        {
          "output_type": "stream",
          "name": "stdout",
          "text": [
            "11.857824421031035\n",
            "None\n"
          ]
        }
      ],
      "source": [
        "\n",
        "\n",
        "def orbital_period(semi_major_axis):\n",
        "  T = semi_major_axis**(3/2)\n",
        "  print(T)\n",
        "\n",
        "print(orbital_period(5.2))"
      ]
    },
    {
      "cell_type": "markdown",
      "id": "303ffc13",
      "metadata": {
        "editable": true,
        "id": "303ffc13",
        "tags": []
      },
      "source": [
        "### 🔄 Lookup Planet Facts\n",
        "\n",
        "Create a dictionary with simple planet facts (e.g., `\"mars\": {\"moons\": 2, \"radius_km\": 3390}`).\n",
        "\n",
        "Write a function `planet_fact(planet_dict, planet_name, fact)` that returns the requested value or `\"Unknown\"` if the key or planet isn't found.\n",
        "\n",
        "```python\n",
        "planet_fact(planets_dict, \"mars\", \"moons\") → 2\n",
        "planet_fact(planets_dict, \"venus\", \"rings\") → \"Unknown\"\n",
        "```\n"
      ]
    },
    {
      "cell_type": "code",
      "execution_count": null,
      "id": "99312cb4",
      "metadata": {
        "editable": true,
        "id": "99312cb4",
        "tags": []
      },
      "outputs": [],
      "source": []
    },
    {
      "cell_type": "markdown",
      "id": "ffab9291",
      "metadata": {
        "editable": true,
        "id": "ffab9291",
        "tags": []
      },
      "source": [
        "### 🔢 Index by First Letter\n",
        "\n",
        "Write a function `group_by_letter(names)` that returns a dictionary where each key is a first letter, and each value is a list of names starting with that letter.\n",
        "\n",
        "```python\n",
        "group_by_letter([\"mars\", \"mercury\", \"venus\", \"earth\"])\n",
        "# → {'m': ['mars', 'mercury'], 'v': ['venus'], 'e': ['earth']}\n",
        "```"
      ]
    },
    {
      "cell_type": "code",
      "execution_count": null,
      "id": "89a332ae",
      "metadata": {
        "editable": true,
        "id": "89a332ae",
        "tags": []
      },
      "outputs": [],
      "source": []
    },
    {
      "cell_type": "markdown",
      "id": "7a4918b0",
      "metadata": {
        "editable": true,
        "id": "7a4918b0",
        "tags": []
      },
      "source": [
        "### 🧮 Vector Length Function\n",
        "\n",
        "Write a function `vector_length(vec)` that calculates the Euclidean length of a NumPy vector:\n",
        "\n",
        "$$\n",
        "\\text{length} = \\sqrt{x^2 + y^2 + z^2}\n",
        "$$\n",
        "\n",
        "Bonus: Extend it to work for *any* length-1D array."
      ]
    },
    {
      "cell_type": "code",
      "execution_count": null,
      "id": "5340b9a6",
      "metadata": {
        "editable": true,
        "id": "5340b9a6",
        "tags": []
      },
      "outputs": [],
      "source": []
    },
    {
      "cell_type": "markdown",
      "id": "489e68b0",
      "metadata": {
        "editable": true,
        "id": "489e68b0",
        "tags": []
      },
      "source": [
        "### 🧊 Filter Values in an Array\n",
        "\n",
        "Write a function `filter_above(arr, threshold)` that returns only values from a NumPy array above the threshold.\n",
        "\n",
        "```python\n",
        "filter_above(np.array([1, 5, 7]), 4) → array([5, 7])\n",
        "```\n"
      ]
    },
    {
      "cell_type": "code",
      "execution_count": null,
      "id": "e4184832",
      "metadata": {
        "editable": true,
        "id": "e4184832",
        "tags": []
      },
      "outputs": [],
      "source": []
    },
    {
      "cell_type": "markdown",
      "id": "5c70da74",
      "metadata": {
        "editable": true,
        "id": "5c70da74",
        "tags": []
      },
      "source": [
        "### 🌌 Compare Moons Visually\n",
        "\n",
        "Create a dictionary with a few planets and their number of moons (e.g., \"Earth\": 1, \"Jupiter\": 92, ...).\n",
        "Write a function `plot_moons(moon_dict)` that:\n",
        "\n",
        "- Extracts keys and values\n",
        "\n",
        "- Uses `matplotlib` to create a bar chart\n",
        "    \n",
        "- You can keep the style basic — focus on just calling `plt.bar()` and `plt.show()`."
      ]
    },
    {
      "cell_type": "code",
      "execution_count": null,
      "id": "8b472b59",
      "metadata": {
        "editable": true,
        "id": "8b472b59",
        "tags": []
      },
      "outputs": [],
      "source": []
    }
  ],
  "metadata": {
    "colab": {
      "provenance": [],
      "include_colab_link": true
    },
    "kernelspec": {
      "display_name": "Python 3 (ipykernel)",
      "language": "python",
      "name": "python3"
    },
    "language_info": {
      "codemirror_mode": {
        "name": "ipython",
        "version": 3
      },
      "file_extension": ".py",
      "mimetype": "text/x-python",
      "name": "python",
      "nbconvert_exporter": "python",
      "pygments_lexer": "ipython3",
      "version": "3.13.5"
    }
  },
  "nbformat": 4,
  "nbformat_minor": 5
}